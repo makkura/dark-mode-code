{
 "cells": [
  {
   "cell_type": "markdown",
   "id": "5bf98235-865a-4c19-a1ba-0746bb65c8f6",
   "metadata": {
    "collapsed": true,
    "editable": true,
    "jp-MarkdownHeadingCollapsed": true,
    "jupyter": {
     "outputs_hidden": true
    },
    "scrolled": true,
    "slideshow": {
     "slide_type": ""
    },
    "tags": []
   },
   "source": [
    "### Initial Notes\n",
    "#### Map Render Issues\n",
    "Extensions altering browser themes such as Dark Mode extensions may alter the map outputs below.\n",
    "\n",
    "#### Notebook Trust\n",
    "To render the map we will need to Trust this notebook.\n",
    "File -> Trust Notebook\n"
   ]
  },
  {
   "cell_type": "markdown",
   "id": "5f841c86-189e-4bb2-8b94-006ca9067e54",
   "metadata": {
    "collapsed": true,
    "editable": true,
    "jupyter": {
     "outputs_hidden": true
    },
    "scrolled": true,
    "slideshow": {
     "slide_type": ""
    },
    "tags": []
   },
   "source": [
    "### Project Requirements and Notes\n",
    "* Display markers on a map based upon provided Latitude and Longitude values.\n",
    "* Markers show a count of how many times that Latitude and Longitude pair appears in the provided data. \n",
    "* Provided data is in CSV format and contains at least the columns 'latitude' and 'longitude'. \n",
    "* The same location may appear in the CSV many times but is most likely single or double digit times (<100) \n"
   ]
  },
  {
   "attachments": {},
   "cell_type": "markdown",
   "id": "d8bb2d14-e38b-40e2-aa26-e16bec1d5470",
   "metadata": {
    "editable": true,
    "slideshow": {
     "slide_type": ""
    },
    "tags": []
   },
   "source": [
    "### Requirements\n",
    "\n",
    "#### External Libraries Used\n",
    "[Folium](https://python-visualization.github.io/folium/latest/) \\\n",
    "[Folium Docs](https://python-visualization.github.io/folium/latest/user_guide.html)\n",
    "[Folium API Reference](https://python-visualization.github.io/folium/latest/reference.html)\n",
    "\n",
    "\n",
    "#### Local Requirements File\n",
    "[requirements.txt](requirements.txt)"
   ]
  },
  {
   "cell_type": "code",
   "execution_count": null,
   "id": "a991f935-5712-4e18-93fd-a37c73db45a2",
   "metadata": {
    "editable": true,
    "slideshow": {
     "slide_type": ""
    },
    "tags": []
   },
   "outputs": [],
   "source": [
    "# Install libraries\n",
    "!pip install -r requirements.txt\n"
   ]
  },
  {
   "cell_type": "markdown",
   "id": "3dbd23e8-1140-4a3d-9c4e-d5a0d8775cf4",
   "metadata": {
    "editable": true,
    "slideshow": {
     "slide_type": ""
    },
    "tags": []
   },
   "source": [
    "### Folium Map Creation\n",
    "**Function**:  folium.Map  [User Guide: Map](https://python-visualization.github.io/folium/latest/user_guide/map.html)\n",
    "\n",
    "**Parameters we use**: \\\n",
    "**location**:  Latitude, Longitude values to center the map on \\\n",
    "**zoom_start**:  Initial zoom level of the map. Higher numbers zoom in, lower numbers zoom out. \\\n",
    "**tiles**:  Tileset for the map   [User Guide: Tiles](https://python-visualization.github.io/folium/latest/user_guide/raster_layers/tiles.html)   [Additional Tiles at Leaflet](https://leaflet-extras.github.io/leaflet-providers/preview/)\n"
   ]
  },
  {
   "cell_type": "code",
   "execution_count": null,
   "id": "c7184362-8013-4a7f-b713-54f6f8c6700f",
   "metadata": {
    "editable": true,
    "scrolled": true,
    "slideshow": {
     "slide_type": ""
    },
    "tags": []
   },
   "outputs": [],
   "source": [
    "# Initial Map\n",
    "import folium\n",
    "\n",
    "m = folium.Map(location=[37, -97.5], zoom_start=4, tiles=\"OpenStreetMap\")\n",
    "\n",
    "m"
   ]
  },
  {
   "cell_type": "code",
   "execution_count": null,
   "id": "9a04b923-fcd3-4506-bbf9-6079157167d7",
   "metadata": {
    "editable": true,
    "slideshow": {
     "slide_type": ""
    },
    "tags": []
   },
   "outputs": [],
   "source": [
    "m = folium.Map(location=[37, -97.5], zoom_start=4, tiles=\"Cartodb dark_matter\")\n",
    "\n",
    "m"
   ]
  },
  {
   "cell_type": "code",
   "execution_count": null,
   "id": "9d90bc8d-1d3d-414a-9c9f-a7ec22971356",
   "metadata": {
    "editable": true,
    "slideshow": {
     "slide_type": ""
    },
    "tags": []
   },
   "outputs": [],
   "source": [
    "m = folium.Map(location=[37, -97.5], zoom_start=4, tiles=\"OpenTopoMap\")\n",
    "\n",
    "m"
   ]
  },
  {
   "cell_type": "markdown",
   "id": "5bfef8dc-1bda-4386-9182-0f61a9b7df34",
   "metadata": {
    "collapsed": true,
    "editable": true,
    "jupyter": {
     "outputs_hidden": true
    },
    "slideshow": {
     "slide_type": ""
    },
    "tags": []
   },
   "source": [
    "### Map Markers\n",
    "**Function**:  folium.Marker [API Reference: Marker](https://python-visualization.github.io/folium/latest/reference.html#folium.map.Marker)\n",
    "\n",
    "**Parameters we use**:\n",
    "**location**:  Latitude, Longitude values used to place the marker \\\n",
    "**icon**: What icon to display, defined via folium.icon [API Reference: Icon](https://python-visualization.github.io/folium/latest/reference.html#folium.map.Icon)\n",
    "\n",
    "---\n",
    "**Function**: folium.Icon [API Reference: Icon](https://python-visualization.github.io/folium/latest/reference.html#folium.map.Icon)\n",
    "\n",
    "**Parameters we use**: \\\n",
    "**color**: Color of the icon \\\n",
    "**icon**: Icon identifier from the icon set identified by the prefix \\\n",
    "**prefix**: Prefix to switch between different Font Awesome or Bootstrap 3, defaults to glyphicons\n",
    "\n",
    "[Font Awesome Icons - Free](https://fontawesome.com/search?o=r&m=free) \\\n",
    "[Bootstrap 3 - Glyphicons](https://getbootstrap.com/docs/3.3/components/)\n"
   ]
  },
  {
   "cell_type": "code",
   "execution_count": null,
   "id": "81f79d8c-6aa6-438f-be51-a1d05581b318",
   "metadata": {},
   "outputs": [],
   "source": [
    "m = folium.Map(location=[37, -97.5], zoom_start=4, tiles=\"OpenStreetMap\")\n",
    "\n",
    "\n",
    "folium.Marker(\n",
    "    location=[38.63,-90], \n",
    "    icon=folium.Icon(color='red')\n",
    ").add_to(m)\n",
    "\n",
    "folium.Marker(\n",
    "    location=[43,-110], \n",
    "    icon=folium.Icon(color='green')\n",
    ").add_to(m)\n",
    "\n",
    "folium.Marker(\n",
    "    location=[45,-90], \n",
    "    icon=folium.Icon(color='blue', icon=\"cloud\", prefix=\"fa\")\n",
    ").add_to(m)\n",
    "\n",
    "folium.Marker(\n",
    "    location=[27,-82], \n",
    "    icon=folium.Icon(color='lightgreen', icon=\"sun\", prefix=\"fa\")\n",
    ").add_to(m)\n",
    "\n",
    "m"
   ]
  },
  {
   "cell_type": "markdown",
   "id": "c6a9440b-a2c8-4b16-aed1-50aa822d3eef",
   "metadata": {
    "editable": true,
    "slideshow": {
     "slide_type": ""
    },
    "tags": []
   },
   "source": [
    "### Adding Numbers To Markers\n"
   ]
  },
  {
   "cell_type": "markdown",
   "id": "95bb598d-a158-46d1-a7f9-11042a959e76",
   "metadata": {
    "collapsed": true,
    "editable": true,
    "jupyter": {
     "outputs_hidden": true
    },
    "slideshow": {
     "slide_type": ""
    },
    "tags": []
   },
   "source": [
    "#### Adding Numbers - Part 1\n",
    "Font Awesome and Icon Limitations \\\n",
    "[Font Awesome - Numbers - Free](https://fontawesome.com/icons/categories/numbers?f=classic&s=solid) Check 'Free' checkbox"
   ]
  },
  {
   "cell_type": "code",
   "execution_count": null,
   "id": "366c5a08-f6eb-4125-8216-e4f64bed2dc2",
   "metadata": {
    "editable": true,
    "slideshow": {
     "slide_type": ""
    },
    "tags": []
   },
   "outputs": [],
   "source": [
    "m = folium.Map(location=[37, -97.5], zoom_start=4, tiles=\"OpenStreetMap\")\n",
    "\n",
    "\n",
    "folium.Marker(\n",
    "    location=[38.63,-90], \n",
    "    icon=folium.Icon(color='red', icon=\"1\", prefix=\"fa\")\n",
    ").add_to(m)\n",
    "\n",
    "folium.Marker(\n",
    "    location=[43,-110], \n",
    "    icon=folium.Icon(color='green', icon=\"5\", prefix=\"fa\")\n",
    ").add_to(m)\n",
    "\n",
    "folium.Marker(\n",
    "    location=[45,-90], \n",
    "    icon=folium.Icon(color='blue', icon=\"9\", prefix=\"fa\")\n",
    ").add_to(m)\n",
    "\n",
    "m"
   ]
  },
  {
   "cell_type": "code",
   "execution_count": null,
   "id": "c56e3c3d-c28f-49a8-9948-9de457cf8f4b",
   "metadata": {},
   "outputs": [],
   "source": [
    "m = folium.Map(location=[37, -97.5], zoom_start=4, tiles=\"OpenStreetMap\")\n",
    "\n",
    "folium.Marker(\n",
    "    location=[45,-90], \n",
    "    icon=folium.Icon(color='blue', icon=\"10\", prefix=\"fa\")\n",
    ").add_to(m)\n",
    "\n",
    "m"
   ]
  },
  {
   "cell_type": "markdown",
   "id": "efe91e35-6970-4ee1-bc0e-b50d509c8f88",
   "metadata": {
    "editable": true,
    "slideshow": {
     "slide_type": ""
    },
    "tags": []
   },
   "source": [
    "#### Adding Numbers - Part 2\n",
    "BeautifyIcon \\\n",
    "[User Guide: BeautifyIcon](https://python-visualization.github.io/folium/latest/user_guide/plugins/beautify_icon.html) \\\n",
    "[API Reference: BeautifyIcon](https://python-visualization.github.io/folium/latest/reference.html#folium.plugins.BeautifyIcon) \\\n",
    "[BeautifyMarker Github](https://github.com/masajid390/BeautifyMarker)\n",
    "\n",
    "**Function**: folium.plugins.BeautifyIcon\n",
    "\n",
    "**Parameters we use**: \\\n",
    "**icon**: The Font-Awesome icon name to use to render the marker \\\n",
    "**icon_shape**: The icon shape as per the BeautifyMarker repo; marker, circle-dot, rectangle, rectangle-dot, doughnut \\\n",
    "**border_color**: Border color of the icon in hexadecimal format; default: #000000 (black) \\\n",
    "**background_color**: Background color of the icon in hexadecimal format; default: #FFFFFF (white) \\\n",
    "**text_color**: Text color of text in the icon in hexacecimal format; default: #000000 (black) \\\n",
    "\n",
    "**Notes**:\n",
    "* We bother to import folium.plugins this way because 'import folium' does not seem to include the plugins module. \\\n",
    "[StackOverflow dicussion](https://stackoverflow.com/questions/48085110/no-module-named-folium-plugins-python-3-6)\n",
    "* icon and number parameters are mutually exclusive\n"
   ]
  },
  {
   "cell_type": "code",
   "execution_count": null,
   "id": "25dce201-577e-44c9-bf51-ad54df87a283",
   "metadata": {
    "editable": true,
    "slideshow": {
     "slide_type": ""
    },
    "tags": []
   },
   "outputs": [],
   "source": [
    "import folium.plugins as plugins\n",
    "\n",
    "m = folium.Map(location=[26, -82], zoom_start=6, tiles=\"OpenStreetMap\")\n",
    "\n",
    "icon_details = plugins.BeautifyIcon(\n",
    "    icon=\"plane\",\n",
    "    border_color=\"#FF0000\",\n",
    "    background_color=\"#FFFFFF\",\n",
    "    text_color=\"#FF0000\"\n",
    ")\n",
    "\n",
    "folium.Marker(\n",
    "    location=[27,-82], \n",
    "    icon=icon_details\n",
    ").add_to(m)\n",
    "\n",
    "icon_details = plugins.BeautifyIcon(\n",
    "    border_color=\"#FF0000\",\n",
    "    background_color=\"#FFFFFF\",\n",
    "    text_color=\"#FF0000\",\n",
    "    number=10\n",
    ")\n",
    "\n",
    "folium.Marker(\n",
    "    location=[26,-82], \n",
    "    icon=icon_details\n",
    ").add_to(m)\n",
    "\n",
    "icon_details = plugins.BeautifyIcon(\n",
    "    icon_shape=\"marker\",\n",
    "    border_color=\"#FF0000\",\n",
    "    background_color=\"#FFFFFF\",\n",
    "    text_color=\"#000000\",\n",
    "    number=112\n",
    ")\n",
    "\n",
    "folium.Marker(\n",
    "    location=[24,-82], \n",
    "    icon=icon_details\n",
    ").add_to(m)\n",
    "\n",
    "\n",
    "m"
   ]
  },
  {
   "cell_type": "markdown",
   "id": "a0286b14-fd6b-4d46-ab64-92ecb832f721",
   "metadata": {
    "collapsed": true,
    "editable": true,
    "jupyter": {
     "outputs_hidden": true
    },
    "slideshow": {
     "slide_type": ""
    },
    "tags": []
   },
   "source": [
    "### CSV Data\n",
    "Our sample [data.csv](data.csv) contains sample data under the columns 'latitude' and 'longitude'.\n",
    "We need that data as well as how many times each set occurs\n",
    "\n",
    "[Pyhon Docs: CSV](https://docs.python.org/3/library/csv.html) \\\n",
    "[Python Docs: CSV - Dictionary Reader](https://docs.python.org/3/library/csv.html#csv.DictReader)"
   ]
  },
  {
   "cell_type": "code",
   "execution_count": null,
   "id": "fa9d8dae-5f39-44e7-b58b-78603d9dea5a",
   "metadata": {
    "editable": true,
    "slideshow": {
     "slide_type": ""
    },
    "tags": []
   },
   "outputs": [],
   "source": [
    "import csv\n",
    "\n",
    "# Get CSV rows\n",
    "with open('data.csv', mode='r') as csv_file:\n",
    "    markers = {} # {(lat,long) count}\n",
    "    csv_reader = csv.DictReader(csv_file)\n",
    "    for row in csv_reader:\n",
    "        lat_long = (row[\"lat\"], row[\"long\"])\n",
    "        if (lat_long) in markers:\n",
    "            markers[lat_long] += 1\n",
    "        else:\n",
    "            markers[lat_long] = 1\n",
    "\n",
    "for lat_long,count in markers.items():\n",
    "    print(f\"Location: {lat_long} Count: {count}\")\n"
   ]
  },
  {
   "cell_type": "markdown",
   "id": "93cdbbcd-bf3e-4d53-b98a-5addb1179211",
   "metadata": {
    "editable": true,
    "slideshow": {
     "slide_type": ""
    },
    "tags": []
   },
   "source": [
    "### Output\n",
    "Save map to HTML"
   ]
  },
  {
   "cell_type": "code",
   "execution_count": null,
   "id": "d2577da7-69ec-494f-b09d-f5d3bbb3bd3f",
   "metadata": {},
   "outputs": [],
   "source": [
    "map_html = m._repr_html_()\n",
    "\n",
    "file1 = open('map.html', 'w')\n",
    "file1.write(map_html)\n",
    "file1.close()\n"
   ]
  },
  {
   "cell_type": "markdown",
   "id": "11e802f7-1592-47f0-adf9-4d91a9a7e521",
   "metadata": {},
   "source": [
    "### Putting the pieces together\n",
    "Combining our csv data with marker creation\n"
   ]
  },
  {
   "cell_type": "code",
   "execution_count": null,
   "id": "c7eff5e8-fc5e-4690-a436-5d0c0c3f74fc",
   "metadata": {},
   "outputs": [],
   "source": [
    "m = folium.Map(location=[37, -97.5], zoom_start=5, tiles=\"OpenStreetMap\")\n",
    "\n",
    "# Get CSV rows\n",
    "with open('data.csv', mode='r') as csv_file:\n",
    "    markers = {} # {(lat,long) count}\n",
    "    csv_reader = csv.DictReader(csv_file)\n",
    "    for row in csv_reader:\n",
    "        lat_long = (row[\"lat\"], row[\"long\"])\n",
    "        if (lat_long) in markers:\n",
    "            markers[lat_long] += 1\n",
    "        else:\n",
    "            markers[lat_long] = 1\n",
    "\n",
    "for lat_long,count in markers.items():\n",
    "    icon_details = plugins.BeautifyIcon(\n",
    "        icon_shape=\"marker\",\n",
    "        border_color=\"#FF0000\",\n",
    "        background_color=\"#FFFFFF\",\n",
    "        text_color=\"#000000\",\n",
    "        number=count\n",
    "        )\n",
    "    \n",
    "    folium.Marker(\n",
    "        location=lat_long, \n",
    "        icon=icon_details\n",
    "    ).add_to(m)\n",
    "\n",
    "map_html = m._repr_html_()\n",
    "\n",
    "file1 = open('map.html', 'w')\n",
    "file1.write(map_html)\n",
    "file1.close()"
   ]
  },
  {
   "cell_type": "markdown",
   "id": "26911598-3ba1-4b6d-b654-65d6abd50466",
   "metadata": {},
   "source": [
    "### Refactor & Complete Code"
   ]
  },
  {
   "cell_type": "code",
   "execution_count": null,
   "id": "faa78770-352a-4b9f-a757-aa32004b5ae5",
   "metadata": {
    "editable": true,
    "slideshow": {
     "slide_type": ""
    },
    "tags": []
   },
   "outputs": [],
   "source": [
    "import folium\n",
    "import folium.plugins as plugins\n",
    "import csv\n",
    "\n",
    "m = folium.Map(location=[37, -97.5], zoom_start=5, tiles=\"OpenStreetMap\")\n",
    "\n",
    "def gather_location_data() -> dict:\n",
    "    # Get CSV rows\n",
    "    with open('data.csv', mode='r') as csv_file:\n",
    "        locations = {} # {(lat,long) count}\n",
    "        csv_reader = csv.DictReader(csv_file)\n",
    "        for row in csv_reader:\n",
    "            lat_long = (row[\"lat\"], row[\"long\"])\n",
    "            if (lat_long) in locations:\n",
    "                locations[lat_long] += 1\n",
    "            else:\n",
    "                locations[lat_long] = 1\n",
    "    return locations\n",
    "\n",
    "def numeric_marker(lat_long=tuple, number=int) -> folium.Marker:\n",
    "    icon_details = plugins.BeautifyIcon(\n",
    "        icon_shape=\"marker\",\n",
    "        border_color=\"#FF0000\",\n",
    "        background_color=\"#FFFFFF\",\n",
    "        text_color=\"#000000\",\n",
    "        number=number\n",
    "        )\n",
    "    \n",
    "    marker = folium.Marker(\n",
    "        location=lat_long, \n",
    "        icon=icon_details\n",
    "    )\n",
    "    return marker\n",
    "\n",
    "def save_to_file(item=any,file_name=str):\n",
    "    html = item._repr_html_()\n",
    "    file1 = open(file_name, 'w')\n",
    "    file1.write(html)\n",
    "    file1.close()\n",
    "\n",
    "locations = gather_location_data()\n",
    "for lat_long,count in locations.items():\n",
    "    numeric_marker(lat_long, count).add_to(m)\n",
    "\n",
    "save_to_file(m, \"map.html\")\n"
   ]
  }
 ],
 "metadata": {
  "kernelspec": {
   "display_name": "Python 3 (ipykernel)",
   "language": "python",
   "name": "python3"
  },
  "language_info": {
   "codemirror_mode": {
    "name": "ipython",
    "version": 3
   },
   "file_extension": ".py",
   "mimetype": "text/x-python",
   "name": "python",
   "nbconvert_exporter": "python",
   "pygments_lexer": "ipython3",
   "version": "3.11.9"
  }
 },
 "nbformat": 4,
 "nbformat_minor": 5
}
