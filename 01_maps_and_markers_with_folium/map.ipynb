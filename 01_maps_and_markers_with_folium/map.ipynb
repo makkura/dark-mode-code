{
 "cells": [
  {
   "cell_type": "markdown",
   "id": "5bf98235-865a-4c19-a1ba-0746bb65c8f6",
   "metadata": {
    "collapsed": true,
    "editable": true,
    "jp-MarkdownHeadingCollapsed": true,
    "jupyter": {
     "outputs_hidden": true
    },
    "scrolled": true,
    "slideshow": {
     "slide_type": ""
    },
    "tags": []
   },
   "source": [
    "### Initial Notes\n",
    "#### Map Render Issues\n",
    "Extensions altering browser themes such as Dark Mode extensions may alter the map outputs below.\n",
    "\n",
    "#### Notebook Trust\n",
    "To render the map we will need to Trust this notebook.\n",
    "File -> Trust Notebook\n"
   ]
  },
  {
   "cell_type": "markdown",
   "id": "5f841c86-189e-4bb2-8b94-006ca9067e54",
   "metadata": {
    "collapsed": true,
    "editable": true,
    "jupyter": {
     "outputs_hidden": true
    },
    "scrolled": true,
    "slideshow": {
     "slide_type": ""
    },
    "tags": []
   },
   "source": [
    "### Project Requirements and Notes\n",
    "* Display markers on a map based upon provided Latitude and Longitude values.\n",
    "* Markers show a count of how many times that Latitude and Longitude pair appears in the provided data. \n",
    "* Provided data is in CSV format and contains at least the columns 'latitude' and 'longitude'. \n",
    "* The same location may appear in the CSV many times but is most likely single or double digit times (<100) \n"
   ]
  },
  {
   "attachments": {},
   "cell_type": "markdown",
   "id": "d8bb2d14-e38b-40e2-aa26-e16bec1d5470",
   "metadata": {
    "editable": true,
    "slideshow": {
     "slide_type": ""
    },
    "tags": []
   },
   "source": [
    "### Requirements\n",
    "\n",
    "#### External Libraries Used\n",
    "[Folium](https://python-visualization.github.io/folium/latest/) \\\n",
    "[Folium Docs](https://python-visualization.github.io/folium/latest/user_guide.html) \\\n",
    "[Folium API Reference](https://python-visualization.github.io/folium/latest/reference.html)\n",
    "\n",
    "\n",
    "#### Local Requirements File\n",
    "[requirements.txt](requirements.txt)"
   ]
  },
  {
   "cell_type": "code",
   "execution_count": 1,
   "id": "a991f935-5712-4e18-93fd-a37c73db45a2",
   "metadata": {
    "editable": true,
    "slideshow": {
     "slide_type": ""
    },
    "tags": []
   },
   "outputs": [
    {
     "name": "stdout",
     "output_type": "stream",
     "text": [
      "Requirement already satisfied: folium==0.16.0 in /opt/conda/lib/python3.11/site-packages (from -r requirements.txt (line 1)) (0.16.0)\n",
      "Requirement already satisfied: branca>=0.6.0 in /opt/conda/lib/python3.11/site-packages (from folium==0.16.0->-r requirements.txt (line 1)) (0.7.2)\n",
      "Requirement already satisfied: jinja2>=2.9 in /opt/conda/lib/python3.11/site-packages (from folium==0.16.0->-r requirements.txt (line 1)) (3.1.4)\n",
      "Requirement already satisfied: numpy in /opt/conda/lib/python3.11/site-packages (from folium==0.16.0->-r requirements.txt (line 1)) (2.0.0)\n",
      "Requirement already satisfied: requests in /opt/conda/lib/python3.11/site-packages (from folium==0.16.0->-r requirements.txt (line 1)) (2.32.3)\n",
      "Requirement already satisfied: xyzservices in /opt/conda/lib/python3.11/site-packages (from folium==0.16.0->-r requirements.txt (line 1)) (2024.6.0)\n",
      "Requirement already satisfied: MarkupSafe>=2.0 in /opt/conda/lib/python3.11/site-packages (from jinja2>=2.9->folium==0.16.0->-r requirements.txt (line 1)) (2.1.5)\n",
      "Requirement already satisfied: charset-normalizer<4,>=2 in /opt/conda/lib/python3.11/site-packages (from requests->folium==0.16.0->-r requirements.txt (line 1)) (3.3.2)\n",
      "Requirement already satisfied: idna<4,>=2.5 in /opt/conda/lib/python3.11/site-packages (from requests->folium==0.16.0->-r requirements.txt (line 1)) (3.7)\n",
      "Requirement already satisfied: urllib3<3,>=1.21.1 in /opt/conda/lib/python3.11/site-packages (from requests->folium==0.16.0->-r requirements.txt (line 1)) (2.2.1)\n",
      "Requirement already satisfied: certifi>=2017.4.17 in /opt/conda/lib/python3.11/site-packages (from requests->folium==0.16.0->-r requirements.txt (line 1)) (2024.6.2)\n"
     ]
    }
   ],
   "source": [
    "# Install libraries\n",
    "!pip install -r requirements.txt\n"
   ]
  },
  {
   "cell_type": "markdown",
   "id": "3dbd23e8-1140-4a3d-9c4e-d5a0d8775cf4",
   "metadata": {
    "editable": true,
    "slideshow": {
     "slide_type": ""
    },
    "tags": []
   },
   "source": [
    "### Folium Map Creation\n",
    "**Function**:  folium.Map  [User Guide: Map](https://python-visualization.github.io/folium/latest/user_guide/map.html)\n",
    "\n",
    "**Parameters we use**: \\\n",
    "**location**:  Latitude, Longitude values to center the map on \\\n",
    "**zoom_start**:  Initial zoom level of the map. Higher numbers zoom in, lower numbers zoom out. \\\n",
    "**tiles**:  Tileset for the map   [User Guide: Tiles](https://python-visualization.github.io/folium/latest/user_guide/raster_layers/tiles.html)   [Additional Tiles at Leaflet](https://leaflet-extras.github.io/leaflet-providers/preview/)\n"
   ]
  },
  {
   "cell_type": "code",
   "execution_count": 2,
   "id": "c7184362-8013-4a7f-b713-54f6f8c6700f",
   "metadata": {
    "collapsed": true,
    "editable": true,
    "jupyter": {
     "outputs_hidden": true
    },
    "scrolled": true,
    "slideshow": {
     "slide_type": ""
    },
    "tags": []
   },
   "outputs": [
    {
     "data": {
      "text/html": [
       "<div style=\"width:100%;\"><div style=\"position:relative;width:100%;height:0;padding-bottom:60%;\"><span style=\"color:#565656\">Make this Notebook Trusted to load map: File -> Trust Notebook</span><iframe srcdoc=\"&lt;!DOCTYPE html&gt;\n",
       "&lt;html&gt;\n",
       "&lt;head&gt;\n",
       "    \n",
       "    &lt;meta http-equiv=&quot;content-type&quot; content=&quot;text/html; charset=UTF-8&quot; /&gt;\n",
       "    \n",
       "        &lt;script&gt;\n",
       "            L_NO_TOUCH = false;\n",
       "            L_DISABLE_3D = false;\n",
       "        &lt;/script&gt;\n",
       "    \n",
       "    &lt;style&gt;html, body {width: 100%;height: 100%;margin: 0;padding: 0;}&lt;/style&gt;\n",
       "    &lt;style&gt;#map {position:absolute;top:0;bottom:0;right:0;left:0;}&lt;/style&gt;\n",
       "    &lt;script src=&quot;https://cdn.jsdelivr.net/npm/leaflet@1.9.3/dist/leaflet.js&quot;&gt;&lt;/script&gt;\n",
       "    &lt;script src=&quot;https://code.jquery.com/jquery-3.7.1.min.js&quot;&gt;&lt;/script&gt;\n",
       "    &lt;script src=&quot;https://cdn.jsdelivr.net/npm/bootstrap@5.2.2/dist/js/bootstrap.bundle.min.js&quot;&gt;&lt;/script&gt;\n",
       "    &lt;script src=&quot;https://cdnjs.cloudflare.com/ajax/libs/Leaflet.awesome-markers/2.0.2/leaflet.awesome-markers.js&quot;&gt;&lt;/script&gt;\n",
       "    &lt;link rel=&quot;stylesheet&quot; href=&quot;https://cdn.jsdelivr.net/npm/leaflet@1.9.3/dist/leaflet.css&quot;/&gt;\n",
       "    &lt;link rel=&quot;stylesheet&quot; href=&quot;https://cdn.jsdelivr.net/npm/bootstrap@5.2.2/dist/css/bootstrap.min.css&quot;/&gt;\n",
       "    &lt;link rel=&quot;stylesheet&quot; href=&quot;https://netdna.bootstrapcdn.com/bootstrap/3.0.0/css/bootstrap.min.css&quot;/&gt;\n",
       "    &lt;link rel=&quot;stylesheet&quot; href=&quot;https://cdn.jsdelivr.net/npm/@fortawesome/fontawesome-free@6.2.0/css/all.min.css&quot;/&gt;\n",
       "    &lt;link rel=&quot;stylesheet&quot; href=&quot;https://cdnjs.cloudflare.com/ajax/libs/Leaflet.awesome-markers/2.0.2/leaflet.awesome-markers.css&quot;/&gt;\n",
       "    &lt;link rel=&quot;stylesheet&quot; href=&quot;https://cdn.jsdelivr.net/gh/python-visualization/folium/folium/templates/leaflet.awesome.rotate.min.css&quot;/&gt;\n",
       "    \n",
       "            &lt;meta name=&quot;viewport&quot; content=&quot;width=device-width,\n",
       "                initial-scale=1.0, maximum-scale=1.0, user-scalable=no&quot; /&gt;\n",
       "            &lt;style&gt;\n",
       "                #map_7798ee4f7a61576dd8f33d6e05f4f6e6 {\n",
       "                    position: relative;\n",
       "                    width: 100.0%;\n",
       "                    height: 100.0%;\n",
       "                    left: 0.0%;\n",
       "                    top: 0.0%;\n",
       "                }\n",
       "                .leaflet-container { font-size: 1rem; }\n",
       "            &lt;/style&gt;\n",
       "        \n",
       "&lt;/head&gt;\n",
       "&lt;body&gt;\n",
       "    \n",
       "    \n",
       "            &lt;div class=&quot;folium-map&quot; id=&quot;map_7798ee4f7a61576dd8f33d6e05f4f6e6&quot; &gt;&lt;/div&gt;\n",
       "        \n",
       "&lt;/body&gt;\n",
       "&lt;script&gt;\n",
       "    \n",
       "    \n",
       "            var map_7798ee4f7a61576dd8f33d6e05f4f6e6 = L.map(\n",
       "                &quot;map_7798ee4f7a61576dd8f33d6e05f4f6e6&quot;,\n",
       "                {\n",
       "                    center: [37.0, -97.5],\n",
       "                    crs: L.CRS.EPSG3857,\n",
       "                    zoom: 4,\n",
       "                    zoomControl: true,\n",
       "                    preferCanvas: false,\n",
       "                }\n",
       "            );\n",
       "\n",
       "            \n",
       "\n",
       "        \n",
       "    \n",
       "            var tile_layer_9bb7178a3f978e6cc994b680cd9bca38 = L.tileLayer(\n",
       "                &quot;https://tile.openstreetmap.org/{z}/{x}/{y}.png&quot;,\n",
       "                {&quot;attribution&quot;: &quot;\\u0026copy; \\u003ca href=\\&quot;https://www.openstreetmap.org/copyright\\&quot;\\u003eOpenStreetMap\\u003c/a\\u003e contributors&quot;, &quot;detectRetina&quot;: false, &quot;maxNativeZoom&quot;: 19, &quot;maxZoom&quot;: 19, &quot;minZoom&quot;: 0, &quot;noWrap&quot;: false, &quot;opacity&quot;: 1, &quot;subdomains&quot;: &quot;abc&quot;, &quot;tms&quot;: false}\n",
       "            );\n",
       "        \n",
       "    \n",
       "            tile_layer_9bb7178a3f978e6cc994b680cd9bca38.addTo(map_7798ee4f7a61576dd8f33d6e05f4f6e6);\n",
       "        \n",
       "&lt;/script&gt;\n",
       "&lt;/html&gt;\" style=\"position:absolute;width:100%;height:100%;left:0;top:0;border:none !important;\" allowfullscreen webkitallowfullscreen mozallowfullscreen></iframe></div></div>"
      ],
      "text/plain": [
       "<folium.folium.Map at 0xffff9a189810>"
      ]
     },
     "execution_count": 2,
     "metadata": {},
     "output_type": "execute_result"
    }
   ],
   "source": [
    "# Initial Map\n",
    "import folium\n",
    "\n",
    "m = folium.Map(location=[37, -97.5], zoom_start=4, tiles=\"OpenStreetMap\")\n",
    "\n",
    "m"
   ]
  },
  {
   "cell_type": "code",
   "execution_count": 3,
   "id": "9a04b923-fcd3-4506-bbf9-6079157167d7",
   "metadata": {
    "collapsed": true,
    "editable": true,
    "jupyter": {
     "outputs_hidden": true
    },
    "slideshow": {
     "slide_type": ""
    },
    "tags": []
   },
   "outputs": [
    {
     "data": {
      "text/html": [
       "<div style=\"width:100%;\"><div style=\"position:relative;width:100%;height:0;padding-bottom:60%;\"><span style=\"color:#565656\">Make this Notebook Trusted to load map: File -> Trust Notebook</span><iframe srcdoc=\"&lt;!DOCTYPE html&gt;\n",
       "&lt;html&gt;\n",
       "&lt;head&gt;\n",
       "    \n",
       "    &lt;meta http-equiv=&quot;content-type&quot; content=&quot;text/html; charset=UTF-8&quot; /&gt;\n",
       "    \n",
       "        &lt;script&gt;\n",
       "            L_NO_TOUCH = false;\n",
       "            L_DISABLE_3D = false;\n",
       "        &lt;/script&gt;\n",
       "    \n",
       "    &lt;style&gt;html, body {width: 100%;height: 100%;margin: 0;padding: 0;}&lt;/style&gt;\n",
       "    &lt;style&gt;#map {position:absolute;top:0;bottom:0;right:0;left:0;}&lt;/style&gt;\n",
       "    &lt;script src=&quot;https://cdn.jsdelivr.net/npm/leaflet@1.9.3/dist/leaflet.js&quot;&gt;&lt;/script&gt;\n",
       "    &lt;script src=&quot;https://code.jquery.com/jquery-3.7.1.min.js&quot;&gt;&lt;/script&gt;\n",
       "    &lt;script src=&quot;https://cdn.jsdelivr.net/npm/bootstrap@5.2.2/dist/js/bootstrap.bundle.min.js&quot;&gt;&lt;/script&gt;\n",
       "    &lt;script src=&quot;https://cdnjs.cloudflare.com/ajax/libs/Leaflet.awesome-markers/2.0.2/leaflet.awesome-markers.js&quot;&gt;&lt;/script&gt;\n",
       "    &lt;link rel=&quot;stylesheet&quot; href=&quot;https://cdn.jsdelivr.net/npm/leaflet@1.9.3/dist/leaflet.css&quot;/&gt;\n",
       "    &lt;link rel=&quot;stylesheet&quot; href=&quot;https://cdn.jsdelivr.net/npm/bootstrap@5.2.2/dist/css/bootstrap.min.css&quot;/&gt;\n",
       "    &lt;link rel=&quot;stylesheet&quot; href=&quot;https://netdna.bootstrapcdn.com/bootstrap/3.0.0/css/bootstrap.min.css&quot;/&gt;\n",
       "    &lt;link rel=&quot;stylesheet&quot; href=&quot;https://cdn.jsdelivr.net/npm/@fortawesome/fontawesome-free@6.2.0/css/all.min.css&quot;/&gt;\n",
       "    &lt;link rel=&quot;stylesheet&quot; href=&quot;https://cdnjs.cloudflare.com/ajax/libs/Leaflet.awesome-markers/2.0.2/leaflet.awesome-markers.css&quot;/&gt;\n",
       "    &lt;link rel=&quot;stylesheet&quot; href=&quot;https://cdn.jsdelivr.net/gh/python-visualization/folium/folium/templates/leaflet.awesome.rotate.min.css&quot;/&gt;\n",
       "    \n",
       "            &lt;meta name=&quot;viewport&quot; content=&quot;width=device-width,\n",
       "                initial-scale=1.0, maximum-scale=1.0, user-scalable=no&quot; /&gt;\n",
       "            &lt;style&gt;\n",
       "                #map_c8abc4fd7522c3b8ef31279e839a7e44 {\n",
       "                    position: relative;\n",
       "                    width: 100.0%;\n",
       "                    height: 100.0%;\n",
       "                    left: 0.0%;\n",
       "                    top: 0.0%;\n",
       "                }\n",
       "                .leaflet-container { font-size: 1rem; }\n",
       "            &lt;/style&gt;\n",
       "        \n",
       "&lt;/head&gt;\n",
       "&lt;body&gt;\n",
       "    \n",
       "    \n",
       "            &lt;div class=&quot;folium-map&quot; id=&quot;map_c8abc4fd7522c3b8ef31279e839a7e44&quot; &gt;&lt;/div&gt;\n",
       "        \n",
       "&lt;/body&gt;\n",
       "&lt;script&gt;\n",
       "    \n",
       "    \n",
       "            var map_c8abc4fd7522c3b8ef31279e839a7e44 = L.map(\n",
       "                &quot;map_c8abc4fd7522c3b8ef31279e839a7e44&quot;,\n",
       "                {\n",
       "                    center: [37.0, -97.5],\n",
       "                    crs: L.CRS.EPSG3857,\n",
       "                    zoom: 4,\n",
       "                    zoomControl: true,\n",
       "                    preferCanvas: false,\n",
       "                }\n",
       "            );\n",
       "\n",
       "            \n",
       "\n",
       "        \n",
       "    \n",
       "            var tile_layer_b89c959dec58a57972aa43cd56af77f4 = L.tileLayer(\n",
       "                &quot;https://{s}.basemaps.cartocdn.com/dark_all/{z}/{x}/{y}{r}.png&quot;,\n",
       "                {&quot;attribution&quot;: &quot;\\u0026copy; \\u003ca href=\\&quot;https://www.openstreetmap.org/copyright\\&quot;\\u003eOpenStreetMap\\u003c/a\\u003e contributors \\u0026copy; \\u003ca href=\\&quot;https://carto.com/attributions\\&quot;\\u003eCARTO\\u003c/a\\u003e&quot;, &quot;detectRetina&quot;: false, &quot;maxNativeZoom&quot;: 20, &quot;maxZoom&quot;: 20, &quot;minZoom&quot;: 0, &quot;noWrap&quot;: false, &quot;opacity&quot;: 1, &quot;subdomains&quot;: &quot;abcd&quot;, &quot;tms&quot;: false}\n",
       "            );\n",
       "        \n",
       "    \n",
       "            tile_layer_b89c959dec58a57972aa43cd56af77f4.addTo(map_c8abc4fd7522c3b8ef31279e839a7e44);\n",
       "        \n",
       "&lt;/script&gt;\n",
       "&lt;/html&gt;\" style=\"position:absolute;width:100%;height:100%;left:0;top:0;border:none !important;\" allowfullscreen webkitallowfullscreen mozallowfullscreen></iframe></div></div>"
      ],
      "text/plain": [
       "<folium.folium.Map at 0xffff5c3e1890>"
      ]
     },
     "execution_count": 3,
     "metadata": {},
     "output_type": "execute_result"
    }
   ],
   "source": [
    "m = folium.Map(location=[37, -97.5], zoom_start=4, tiles=\"Cartodb dark_matter\")\n",
    "\n",
    "m"
   ]
  },
  {
   "cell_type": "code",
   "execution_count": 4,
   "id": "9d90bc8d-1d3d-414a-9c9f-a7ec22971356",
   "metadata": {
    "collapsed": true,
    "editable": true,
    "jupyter": {
     "outputs_hidden": true
    },
    "slideshow": {
     "slide_type": ""
    },
    "tags": []
   },
   "outputs": [
    {
     "data": {
      "text/html": [
       "<div style=\"width:100%;\"><div style=\"position:relative;width:100%;height:0;padding-bottom:60%;\"><span style=\"color:#565656\">Make this Notebook Trusted to load map: File -> Trust Notebook</span><iframe srcdoc=\"&lt;!DOCTYPE html&gt;\n",
       "&lt;html&gt;\n",
       "&lt;head&gt;\n",
       "    \n",
       "    &lt;meta http-equiv=&quot;content-type&quot; content=&quot;text/html; charset=UTF-8&quot; /&gt;\n",
       "    \n",
       "        &lt;script&gt;\n",
       "            L_NO_TOUCH = false;\n",
       "            L_DISABLE_3D = false;\n",
       "        &lt;/script&gt;\n",
       "    \n",
       "    &lt;style&gt;html, body {width: 100%;height: 100%;margin: 0;padding: 0;}&lt;/style&gt;\n",
       "    &lt;style&gt;#map {position:absolute;top:0;bottom:0;right:0;left:0;}&lt;/style&gt;\n",
       "    &lt;script src=&quot;https://cdn.jsdelivr.net/npm/leaflet@1.9.3/dist/leaflet.js&quot;&gt;&lt;/script&gt;\n",
       "    &lt;script src=&quot;https://code.jquery.com/jquery-3.7.1.min.js&quot;&gt;&lt;/script&gt;\n",
       "    &lt;script src=&quot;https://cdn.jsdelivr.net/npm/bootstrap@5.2.2/dist/js/bootstrap.bundle.min.js&quot;&gt;&lt;/script&gt;\n",
       "    &lt;script src=&quot;https://cdnjs.cloudflare.com/ajax/libs/Leaflet.awesome-markers/2.0.2/leaflet.awesome-markers.js&quot;&gt;&lt;/script&gt;\n",
       "    &lt;link rel=&quot;stylesheet&quot; href=&quot;https://cdn.jsdelivr.net/npm/leaflet@1.9.3/dist/leaflet.css&quot;/&gt;\n",
       "    &lt;link rel=&quot;stylesheet&quot; href=&quot;https://cdn.jsdelivr.net/npm/bootstrap@5.2.2/dist/css/bootstrap.min.css&quot;/&gt;\n",
       "    &lt;link rel=&quot;stylesheet&quot; href=&quot;https://netdna.bootstrapcdn.com/bootstrap/3.0.0/css/bootstrap.min.css&quot;/&gt;\n",
       "    &lt;link rel=&quot;stylesheet&quot; href=&quot;https://cdn.jsdelivr.net/npm/@fortawesome/fontawesome-free@6.2.0/css/all.min.css&quot;/&gt;\n",
       "    &lt;link rel=&quot;stylesheet&quot; href=&quot;https://cdnjs.cloudflare.com/ajax/libs/Leaflet.awesome-markers/2.0.2/leaflet.awesome-markers.css&quot;/&gt;\n",
       "    &lt;link rel=&quot;stylesheet&quot; href=&quot;https://cdn.jsdelivr.net/gh/python-visualization/folium/folium/templates/leaflet.awesome.rotate.min.css&quot;/&gt;\n",
       "    \n",
       "            &lt;meta name=&quot;viewport&quot; content=&quot;width=device-width,\n",
       "                initial-scale=1.0, maximum-scale=1.0, user-scalable=no&quot; /&gt;\n",
       "            &lt;style&gt;\n",
       "                #map_4693b72148ab801b51a45ca54e038432 {\n",
       "                    position: relative;\n",
       "                    width: 100.0%;\n",
       "                    height: 100.0%;\n",
       "                    left: 0.0%;\n",
       "                    top: 0.0%;\n",
       "                }\n",
       "                .leaflet-container { font-size: 1rem; }\n",
       "            &lt;/style&gt;\n",
       "        \n",
       "&lt;/head&gt;\n",
       "&lt;body&gt;\n",
       "    \n",
       "    \n",
       "            &lt;div class=&quot;folium-map&quot; id=&quot;map_4693b72148ab801b51a45ca54e038432&quot; &gt;&lt;/div&gt;\n",
       "        \n",
       "&lt;/body&gt;\n",
       "&lt;script&gt;\n",
       "    \n",
       "    \n",
       "            var map_4693b72148ab801b51a45ca54e038432 = L.map(\n",
       "                &quot;map_4693b72148ab801b51a45ca54e038432&quot;,\n",
       "                {\n",
       "                    center: [37.0, -97.5],\n",
       "                    crs: L.CRS.EPSG3857,\n",
       "                    zoom: 4,\n",
       "                    zoomControl: true,\n",
       "                    preferCanvas: false,\n",
       "                }\n",
       "            );\n",
       "\n",
       "            \n",
       "\n",
       "        \n",
       "    \n",
       "            var tile_layer_dd54dd8c7e40750be99de0cd84a54254 = L.tileLayer(\n",
       "                &quot;https://{s}.tile.opentopomap.org/{z}/{x}/{y}.png&quot;,\n",
       "                {&quot;attribution&quot;: &quot;Map data: \\u0026copy; \\u003ca href=\\&quot;https://www.openstreetmap.org/copyright\\&quot;\\u003eOpenStreetMap\\u003c/a\\u003e contributors, \\u003ca href=\\&quot;http://viewfinderpanoramas.org\\&quot;\\u003eSRTM\\u003c/a\\u003e | Map style: \\u0026copy; \\u003ca href=\\&quot;https://opentopomap.org\\&quot;\\u003eOpenTopoMap\\u003c/a\\u003e (\\u003ca href=\\&quot;https://creativecommons.org/licenses/by-sa/3.0/\\&quot;\\u003eCC-BY-SA\\u003c/a\\u003e)&quot;, &quot;detectRetina&quot;: false, &quot;maxNativeZoom&quot;: 17, &quot;maxZoom&quot;: 17, &quot;minZoom&quot;: 0, &quot;noWrap&quot;: false, &quot;opacity&quot;: 1, &quot;subdomains&quot;: &quot;abc&quot;, &quot;tms&quot;: false}\n",
       "            );\n",
       "        \n",
       "    \n",
       "            tile_layer_dd54dd8c7e40750be99de0cd84a54254.addTo(map_4693b72148ab801b51a45ca54e038432);\n",
       "        \n",
       "&lt;/script&gt;\n",
       "&lt;/html&gt;\" style=\"position:absolute;width:100%;height:100%;left:0;top:0;border:none !important;\" allowfullscreen webkitallowfullscreen mozallowfullscreen></iframe></div></div>"
      ],
      "text/plain": [
       "<folium.folium.Map at 0xffff5c131290>"
      ]
     },
     "execution_count": 4,
     "metadata": {},
     "output_type": "execute_result"
    }
   ],
   "source": [
    "m = folium.Map(location=[37, -97.5], zoom_start=4, tiles=\"OpenTopoMap\")\n",
    "\n",
    "m"
   ]
  },
  {
   "cell_type": "markdown",
   "id": "5bfef8dc-1bda-4386-9182-0f61a9b7df34",
   "metadata": {
    "collapsed": true,
    "editable": true,
    "jupyter": {
     "outputs_hidden": true
    },
    "slideshow": {
     "slide_type": ""
    },
    "tags": []
   },
   "source": [
    "### Map Markers\n",
    "**Function**:  folium.Marker [API Reference: Marker](https://python-visualization.github.io/folium/latest/reference.html#folium.map.Marker)\n",
    "\n",
    "**Parameters we use**:\n",
    "**location**:  Latitude, Longitude values used to place the marker \\\n",
    "**icon**: What icon to display, defined via folium.icon [API Reference: Icon](https://python-visualization.github.io/folium/latest/reference.html#folium.map.Icon)\n",
    "\n",
    "---\n",
    "**Function**: folium.Icon [API Reference: Icon](https://python-visualization.github.io/folium/latest/reference.html#folium.map.Icon)\n",
    "\n",
    "**Parameters we use**: \\\n",
    "**color**: Color of the icon \\\n",
    "**icon**: Icon identifier from the icon set identified by the prefix \\\n",
    "**prefix**: Prefix to switch between different Font Awesome or Bootstrap 3, defaults to glyphicons\n",
    "\n",
    "[Font Awesome Icons - Free](https://fontawesome.com/search?o=r&m=free) \\\n",
    "[Bootstrap 3 - Glyphicons](https://getbootstrap.com/docs/3.3/components/)\n"
   ]
  },
  {
   "cell_type": "code",
   "execution_count": 5,
   "id": "81f79d8c-6aa6-438f-be51-a1d05581b318",
   "metadata": {
    "collapsed": true,
    "jupyter": {
     "outputs_hidden": true
    },
    "scrolled": true
   },
   "outputs": [
    {
     "data": {
      "text/html": [
       "<div style=\"width:100%;\"><div style=\"position:relative;width:100%;height:0;padding-bottom:60%;\"><span style=\"color:#565656\">Make this Notebook Trusted to load map: File -> Trust Notebook</span><iframe srcdoc=\"&lt;!DOCTYPE html&gt;\n",
       "&lt;html&gt;\n",
       "&lt;head&gt;\n",
       "    \n",
       "    &lt;meta http-equiv=&quot;content-type&quot; content=&quot;text/html; charset=UTF-8&quot; /&gt;\n",
       "    \n",
       "        &lt;script&gt;\n",
       "            L_NO_TOUCH = false;\n",
       "            L_DISABLE_3D = false;\n",
       "        &lt;/script&gt;\n",
       "    \n",
       "    &lt;style&gt;html, body {width: 100%;height: 100%;margin: 0;padding: 0;}&lt;/style&gt;\n",
       "    &lt;style&gt;#map {position:absolute;top:0;bottom:0;right:0;left:0;}&lt;/style&gt;\n",
       "    &lt;script src=&quot;https://cdn.jsdelivr.net/npm/leaflet@1.9.3/dist/leaflet.js&quot;&gt;&lt;/script&gt;\n",
       "    &lt;script src=&quot;https://code.jquery.com/jquery-3.7.1.min.js&quot;&gt;&lt;/script&gt;\n",
       "    &lt;script src=&quot;https://cdn.jsdelivr.net/npm/bootstrap@5.2.2/dist/js/bootstrap.bundle.min.js&quot;&gt;&lt;/script&gt;\n",
       "    &lt;script src=&quot;https://cdnjs.cloudflare.com/ajax/libs/Leaflet.awesome-markers/2.0.2/leaflet.awesome-markers.js&quot;&gt;&lt;/script&gt;\n",
       "    &lt;link rel=&quot;stylesheet&quot; href=&quot;https://cdn.jsdelivr.net/npm/leaflet@1.9.3/dist/leaflet.css&quot;/&gt;\n",
       "    &lt;link rel=&quot;stylesheet&quot; href=&quot;https://cdn.jsdelivr.net/npm/bootstrap@5.2.2/dist/css/bootstrap.min.css&quot;/&gt;\n",
       "    &lt;link rel=&quot;stylesheet&quot; href=&quot;https://netdna.bootstrapcdn.com/bootstrap/3.0.0/css/bootstrap.min.css&quot;/&gt;\n",
       "    &lt;link rel=&quot;stylesheet&quot; href=&quot;https://cdn.jsdelivr.net/npm/@fortawesome/fontawesome-free@6.2.0/css/all.min.css&quot;/&gt;\n",
       "    &lt;link rel=&quot;stylesheet&quot; href=&quot;https://cdnjs.cloudflare.com/ajax/libs/Leaflet.awesome-markers/2.0.2/leaflet.awesome-markers.css&quot;/&gt;\n",
       "    &lt;link rel=&quot;stylesheet&quot; href=&quot;https://cdn.jsdelivr.net/gh/python-visualization/folium/folium/templates/leaflet.awesome.rotate.min.css&quot;/&gt;\n",
       "    \n",
       "            &lt;meta name=&quot;viewport&quot; content=&quot;width=device-width,\n",
       "                initial-scale=1.0, maximum-scale=1.0, user-scalable=no&quot; /&gt;\n",
       "            &lt;style&gt;\n",
       "                #map_708b372d11041179c9733194d8ba79be {\n",
       "                    position: relative;\n",
       "                    width: 100.0%;\n",
       "                    height: 100.0%;\n",
       "                    left: 0.0%;\n",
       "                    top: 0.0%;\n",
       "                }\n",
       "                .leaflet-container { font-size: 1rem; }\n",
       "            &lt;/style&gt;\n",
       "        \n",
       "&lt;/head&gt;\n",
       "&lt;body&gt;\n",
       "    \n",
       "    \n",
       "            &lt;div class=&quot;folium-map&quot; id=&quot;map_708b372d11041179c9733194d8ba79be&quot; &gt;&lt;/div&gt;\n",
       "        \n",
       "&lt;/body&gt;\n",
       "&lt;script&gt;\n",
       "    \n",
       "    \n",
       "            var map_708b372d11041179c9733194d8ba79be = L.map(\n",
       "                &quot;map_708b372d11041179c9733194d8ba79be&quot;,\n",
       "                {\n",
       "                    center: [37.0, -97.5],\n",
       "                    crs: L.CRS.EPSG3857,\n",
       "                    zoom: 4,\n",
       "                    zoomControl: true,\n",
       "                    preferCanvas: false,\n",
       "                }\n",
       "            );\n",
       "\n",
       "            \n",
       "\n",
       "        \n",
       "    \n",
       "            var tile_layer_c2db9a02906bf15022c34f1af392d201 = L.tileLayer(\n",
       "                &quot;https://tile.openstreetmap.org/{z}/{x}/{y}.png&quot;,\n",
       "                {&quot;attribution&quot;: &quot;\\u0026copy; \\u003ca href=\\&quot;https://www.openstreetmap.org/copyright\\&quot;\\u003eOpenStreetMap\\u003c/a\\u003e contributors&quot;, &quot;detectRetina&quot;: false, &quot;maxNativeZoom&quot;: 19, &quot;maxZoom&quot;: 19, &quot;minZoom&quot;: 0, &quot;noWrap&quot;: false, &quot;opacity&quot;: 1, &quot;subdomains&quot;: &quot;abc&quot;, &quot;tms&quot;: false}\n",
       "            );\n",
       "        \n",
       "    \n",
       "            tile_layer_c2db9a02906bf15022c34f1af392d201.addTo(map_708b372d11041179c9733194d8ba79be);\n",
       "        \n",
       "    \n",
       "            var marker_03022f7685c15c7e618cf3827f841ea9 = L.marker(\n",
       "                [38.63, -90.0],\n",
       "                {}\n",
       "            ).addTo(map_708b372d11041179c9733194d8ba79be);\n",
       "        \n",
       "    \n",
       "            var icon_3ab04bfbad9d22e39ac72deb4d512eb7 = L.AwesomeMarkers.icon(\n",
       "                {&quot;extraClasses&quot;: &quot;fa-rotate-0&quot;, &quot;icon&quot;: &quot;info-sign&quot;, &quot;iconColor&quot;: &quot;white&quot;, &quot;markerColor&quot;: &quot;red&quot;, &quot;prefix&quot;: &quot;glyphicon&quot;}\n",
       "            );\n",
       "            marker_03022f7685c15c7e618cf3827f841ea9.setIcon(icon_3ab04bfbad9d22e39ac72deb4d512eb7);\n",
       "        \n",
       "    \n",
       "            var marker_6bda69a787d8a99c6f1c12660f64beb0 = L.marker(\n",
       "                [43.0, -110.0],\n",
       "                {}\n",
       "            ).addTo(map_708b372d11041179c9733194d8ba79be);\n",
       "        \n",
       "    \n",
       "            var icon_9971f628fa323a6befa65e9bfb536d05 = L.AwesomeMarkers.icon(\n",
       "                {&quot;extraClasses&quot;: &quot;fa-rotate-0&quot;, &quot;icon&quot;: &quot;info-sign&quot;, &quot;iconColor&quot;: &quot;white&quot;, &quot;markerColor&quot;: &quot;green&quot;, &quot;prefix&quot;: &quot;glyphicon&quot;}\n",
       "            );\n",
       "            marker_6bda69a787d8a99c6f1c12660f64beb0.setIcon(icon_9971f628fa323a6befa65e9bfb536d05);\n",
       "        \n",
       "    \n",
       "            var marker_f458e59be3b5ff097c1e586f2db61869 = L.marker(\n",
       "                [45.0, -90.0],\n",
       "                {}\n",
       "            ).addTo(map_708b372d11041179c9733194d8ba79be);\n",
       "        \n",
       "    \n",
       "            var icon_6036ec815cc64892a2a36b081b38e076 = L.AwesomeMarkers.icon(\n",
       "                {&quot;extraClasses&quot;: &quot;fa-rotate-0&quot;, &quot;icon&quot;: &quot;cloud&quot;, &quot;iconColor&quot;: &quot;white&quot;, &quot;markerColor&quot;: &quot;blue&quot;, &quot;prefix&quot;: &quot;fa&quot;}\n",
       "            );\n",
       "            marker_f458e59be3b5ff097c1e586f2db61869.setIcon(icon_6036ec815cc64892a2a36b081b38e076);\n",
       "        \n",
       "    \n",
       "            var marker_c70b7ff7cf209ede9af3eb89392d5add = L.marker(\n",
       "                [27.0, -82.0],\n",
       "                {}\n",
       "            ).addTo(map_708b372d11041179c9733194d8ba79be);\n",
       "        \n",
       "    \n",
       "            var icon_e2992211910e90f011ae774d801d83d7 = L.AwesomeMarkers.icon(\n",
       "                {&quot;extraClasses&quot;: &quot;fa-rotate-0&quot;, &quot;icon&quot;: &quot;sun&quot;, &quot;iconColor&quot;: &quot;white&quot;, &quot;markerColor&quot;: &quot;lightgreen&quot;, &quot;prefix&quot;: &quot;fa&quot;}\n",
       "            );\n",
       "            marker_c70b7ff7cf209ede9af3eb89392d5add.setIcon(icon_e2992211910e90f011ae774d801d83d7);\n",
       "        \n",
       "&lt;/script&gt;\n",
       "&lt;/html&gt;\" style=\"position:absolute;width:100%;height:100%;left:0;top:0;border:none !important;\" allowfullscreen webkitallowfullscreen mozallowfullscreen></iframe></div></div>"
      ],
      "text/plain": [
       "<folium.folium.Map at 0xffff70170dd0>"
      ]
     },
     "execution_count": 5,
     "metadata": {},
     "output_type": "execute_result"
    }
   ],
   "source": [
    "m = folium.Map(location=[37, -97.5], zoom_start=4, tiles=\"OpenStreetMap\")\n",
    "\n",
    "\n",
    "folium.Marker(\n",
    "    location=[38.63,-90], \n",
    "    icon=folium.Icon(color='red')\n",
    ").add_to(m)\n",
    "\n",
    "folium.Marker(\n",
    "    location=[43,-110], \n",
    "    icon=folium.Icon(color='green')\n",
    ").add_to(m)\n",
    "\n",
    "folium.Marker(\n",
    "    location=[45,-90], \n",
    "    icon=folium.Icon(color='blue', icon=\"cloud\", prefix=\"fa\")\n",
    ").add_to(m)\n",
    "\n",
    "folium.Marker(\n",
    "    location=[27,-82], \n",
    "    icon=folium.Icon(color='lightgreen', icon=\"sun\", prefix=\"fa\")\n",
    ").add_to(m)\n",
    "\n",
    "m"
   ]
  },
  {
   "cell_type": "markdown",
   "id": "c6a9440b-a2c8-4b16-aed1-50aa822d3eef",
   "metadata": {
    "editable": true,
    "slideshow": {
     "slide_type": ""
    },
    "tags": []
   },
   "source": [
    "### Adding Numbers To Markers\n"
   ]
  },
  {
   "cell_type": "markdown",
   "id": "95bb598d-a158-46d1-a7f9-11042a959e76",
   "metadata": {
    "collapsed": true,
    "editable": true,
    "jupyter": {
     "outputs_hidden": true
    },
    "slideshow": {
     "slide_type": ""
    },
    "tags": []
   },
   "source": [
    "#### Adding Numbers - Part 1\n",
    "Font Awesome and Icon Limitations \\\n",
    "[Font Awesome - Numbers - Free](https://fontawesome.com/icons/categories/numbers?f=classic&s=solid) Check 'Free' checkbox"
   ]
  },
  {
   "cell_type": "code",
   "execution_count": 6,
   "id": "366c5a08-f6eb-4125-8216-e4f64bed2dc2",
   "metadata": {
    "collapsed": true,
    "editable": true,
    "jupyter": {
     "outputs_hidden": true
    },
    "slideshow": {
     "slide_type": ""
    },
    "tags": []
   },
   "outputs": [
    {
     "data": {
      "text/html": [
       "<div style=\"width:100%;\"><div style=\"position:relative;width:100%;height:0;padding-bottom:60%;\"><span style=\"color:#565656\">Make this Notebook Trusted to load map: File -> Trust Notebook</span><iframe srcdoc=\"&lt;!DOCTYPE html&gt;\n",
       "&lt;html&gt;\n",
       "&lt;head&gt;\n",
       "    \n",
       "    &lt;meta http-equiv=&quot;content-type&quot; content=&quot;text/html; charset=UTF-8&quot; /&gt;\n",
       "    \n",
       "        &lt;script&gt;\n",
       "            L_NO_TOUCH = false;\n",
       "            L_DISABLE_3D = false;\n",
       "        &lt;/script&gt;\n",
       "    \n",
       "    &lt;style&gt;html, body {width: 100%;height: 100%;margin: 0;padding: 0;}&lt;/style&gt;\n",
       "    &lt;style&gt;#map {position:absolute;top:0;bottom:0;right:0;left:0;}&lt;/style&gt;\n",
       "    &lt;script src=&quot;https://cdn.jsdelivr.net/npm/leaflet@1.9.3/dist/leaflet.js&quot;&gt;&lt;/script&gt;\n",
       "    &lt;script src=&quot;https://code.jquery.com/jquery-3.7.1.min.js&quot;&gt;&lt;/script&gt;\n",
       "    &lt;script src=&quot;https://cdn.jsdelivr.net/npm/bootstrap@5.2.2/dist/js/bootstrap.bundle.min.js&quot;&gt;&lt;/script&gt;\n",
       "    &lt;script src=&quot;https://cdnjs.cloudflare.com/ajax/libs/Leaflet.awesome-markers/2.0.2/leaflet.awesome-markers.js&quot;&gt;&lt;/script&gt;\n",
       "    &lt;link rel=&quot;stylesheet&quot; href=&quot;https://cdn.jsdelivr.net/npm/leaflet@1.9.3/dist/leaflet.css&quot;/&gt;\n",
       "    &lt;link rel=&quot;stylesheet&quot; href=&quot;https://cdn.jsdelivr.net/npm/bootstrap@5.2.2/dist/css/bootstrap.min.css&quot;/&gt;\n",
       "    &lt;link rel=&quot;stylesheet&quot; href=&quot;https://netdna.bootstrapcdn.com/bootstrap/3.0.0/css/bootstrap.min.css&quot;/&gt;\n",
       "    &lt;link rel=&quot;stylesheet&quot; href=&quot;https://cdn.jsdelivr.net/npm/@fortawesome/fontawesome-free@6.2.0/css/all.min.css&quot;/&gt;\n",
       "    &lt;link rel=&quot;stylesheet&quot; href=&quot;https://cdnjs.cloudflare.com/ajax/libs/Leaflet.awesome-markers/2.0.2/leaflet.awesome-markers.css&quot;/&gt;\n",
       "    &lt;link rel=&quot;stylesheet&quot; href=&quot;https://cdn.jsdelivr.net/gh/python-visualization/folium/folium/templates/leaflet.awesome.rotate.min.css&quot;/&gt;\n",
       "    \n",
       "            &lt;meta name=&quot;viewport&quot; content=&quot;width=device-width,\n",
       "                initial-scale=1.0, maximum-scale=1.0, user-scalable=no&quot; /&gt;\n",
       "            &lt;style&gt;\n",
       "                #map_982eddc4ee7db9e81759e0ddb7059352 {\n",
       "                    position: relative;\n",
       "                    width: 100.0%;\n",
       "                    height: 100.0%;\n",
       "                    left: 0.0%;\n",
       "                    top: 0.0%;\n",
       "                }\n",
       "                .leaflet-container { font-size: 1rem; }\n",
       "            &lt;/style&gt;\n",
       "        \n",
       "&lt;/head&gt;\n",
       "&lt;body&gt;\n",
       "    \n",
       "    \n",
       "            &lt;div class=&quot;folium-map&quot; id=&quot;map_982eddc4ee7db9e81759e0ddb7059352&quot; &gt;&lt;/div&gt;\n",
       "        \n",
       "&lt;/body&gt;\n",
       "&lt;script&gt;\n",
       "    \n",
       "    \n",
       "            var map_982eddc4ee7db9e81759e0ddb7059352 = L.map(\n",
       "                &quot;map_982eddc4ee7db9e81759e0ddb7059352&quot;,\n",
       "                {\n",
       "                    center: [37.0, -97.5],\n",
       "                    crs: L.CRS.EPSG3857,\n",
       "                    zoom: 4,\n",
       "                    zoomControl: true,\n",
       "                    preferCanvas: false,\n",
       "                }\n",
       "            );\n",
       "\n",
       "            \n",
       "\n",
       "        \n",
       "    \n",
       "            var tile_layer_fb663cfd5dc3c34036fa3dbf4b3e6231 = L.tileLayer(\n",
       "                &quot;https://tile.openstreetmap.org/{z}/{x}/{y}.png&quot;,\n",
       "                {&quot;attribution&quot;: &quot;\\u0026copy; \\u003ca href=\\&quot;https://www.openstreetmap.org/copyright\\&quot;\\u003eOpenStreetMap\\u003c/a\\u003e contributors&quot;, &quot;detectRetina&quot;: false, &quot;maxNativeZoom&quot;: 19, &quot;maxZoom&quot;: 19, &quot;minZoom&quot;: 0, &quot;noWrap&quot;: false, &quot;opacity&quot;: 1, &quot;subdomains&quot;: &quot;abc&quot;, &quot;tms&quot;: false}\n",
       "            );\n",
       "        \n",
       "    \n",
       "            tile_layer_fb663cfd5dc3c34036fa3dbf4b3e6231.addTo(map_982eddc4ee7db9e81759e0ddb7059352);\n",
       "        \n",
       "    \n",
       "            var marker_69da936065002ec6d73800fc0fdfdc55 = L.marker(\n",
       "                [38.63, -90.0],\n",
       "                {}\n",
       "            ).addTo(map_982eddc4ee7db9e81759e0ddb7059352);\n",
       "        \n",
       "    \n",
       "            var icon_99920434202e951c001da58f46d72063 = L.AwesomeMarkers.icon(\n",
       "                {&quot;extraClasses&quot;: &quot;fa-rotate-0&quot;, &quot;icon&quot;: &quot;1&quot;, &quot;iconColor&quot;: &quot;white&quot;, &quot;markerColor&quot;: &quot;red&quot;, &quot;prefix&quot;: &quot;fa&quot;}\n",
       "            );\n",
       "            marker_69da936065002ec6d73800fc0fdfdc55.setIcon(icon_99920434202e951c001da58f46d72063);\n",
       "        \n",
       "    \n",
       "            var marker_daf385d8c0047ad347d28e18a19f8b7e = L.marker(\n",
       "                [43.0, -110.0],\n",
       "                {}\n",
       "            ).addTo(map_982eddc4ee7db9e81759e0ddb7059352);\n",
       "        \n",
       "    \n",
       "            var icon_ac676112a28b2249d1c32c7a592372e1 = L.AwesomeMarkers.icon(\n",
       "                {&quot;extraClasses&quot;: &quot;fa-rotate-0&quot;, &quot;icon&quot;: &quot;5&quot;, &quot;iconColor&quot;: &quot;white&quot;, &quot;markerColor&quot;: &quot;green&quot;, &quot;prefix&quot;: &quot;fa&quot;}\n",
       "            );\n",
       "            marker_daf385d8c0047ad347d28e18a19f8b7e.setIcon(icon_ac676112a28b2249d1c32c7a592372e1);\n",
       "        \n",
       "    \n",
       "            var marker_e77f902501742872c6796caf3f07b554 = L.marker(\n",
       "                [45.0, -90.0],\n",
       "                {}\n",
       "            ).addTo(map_982eddc4ee7db9e81759e0ddb7059352);\n",
       "        \n",
       "    \n",
       "            var icon_326d2f16b4d4f987e5e39c37b1724a7e = L.AwesomeMarkers.icon(\n",
       "                {&quot;extraClasses&quot;: &quot;fa-rotate-0&quot;, &quot;icon&quot;: &quot;9&quot;, &quot;iconColor&quot;: &quot;white&quot;, &quot;markerColor&quot;: &quot;blue&quot;, &quot;prefix&quot;: &quot;fa&quot;}\n",
       "            );\n",
       "            marker_e77f902501742872c6796caf3f07b554.setIcon(icon_326d2f16b4d4f987e5e39c37b1724a7e);\n",
       "        \n",
       "&lt;/script&gt;\n",
       "&lt;/html&gt;\" style=\"position:absolute;width:100%;height:100%;left:0;top:0;border:none !important;\" allowfullscreen webkitallowfullscreen mozallowfullscreen></iframe></div></div>"
      ],
      "text/plain": [
       "<folium.folium.Map at 0xffff5c3f5610>"
      ]
     },
     "execution_count": 6,
     "metadata": {},
     "output_type": "execute_result"
    }
   ],
   "source": [
    "m = folium.Map(location=[37, -97.5], zoom_start=4, tiles=\"OpenStreetMap\")\n",
    "\n",
    "\n",
    "folium.Marker(\n",
    "    location=[38.63,-90], \n",
    "    icon=folium.Icon(color='red', icon=\"1\", prefix=\"fa\")\n",
    ").add_to(m)\n",
    "\n",
    "folium.Marker(\n",
    "    location=[43,-110], \n",
    "    icon=folium.Icon(color='green', icon=\"5\", prefix=\"fa\")\n",
    ").add_to(m)\n",
    "\n",
    "folium.Marker(\n",
    "    location=[45,-90], \n",
    "    icon=folium.Icon(color='blue', icon=\"9\", prefix=\"fa\")\n",
    ").add_to(m)\n",
    "\n",
    "m"
   ]
  },
  {
   "cell_type": "code",
   "execution_count": 7,
   "id": "c56e3c3d-c28f-49a8-9948-9de457cf8f4b",
   "metadata": {
    "collapsed": true,
    "jupyter": {
     "outputs_hidden": true
    }
   },
   "outputs": [
    {
     "data": {
      "text/html": [
       "<div style=\"width:100%;\"><div style=\"position:relative;width:100%;height:0;padding-bottom:60%;\"><span style=\"color:#565656\">Make this Notebook Trusted to load map: File -> Trust Notebook</span><iframe srcdoc=\"&lt;!DOCTYPE html&gt;\n",
       "&lt;html&gt;\n",
       "&lt;head&gt;\n",
       "    \n",
       "    &lt;meta http-equiv=&quot;content-type&quot; content=&quot;text/html; charset=UTF-8&quot; /&gt;\n",
       "    \n",
       "        &lt;script&gt;\n",
       "            L_NO_TOUCH = false;\n",
       "            L_DISABLE_3D = false;\n",
       "        &lt;/script&gt;\n",
       "    \n",
       "    &lt;style&gt;html, body {width: 100%;height: 100%;margin: 0;padding: 0;}&lt;/style&gt;\n",
       "    &lt;style&gt;#map {position:absolute;top:0;bottom:0;right:0;left:0;}&lt;/style&gt;\n",
       "    &lt;script src=&quot;https://cdn.jsdelivr.net/npm/leaflet@1.9.3/dist/leaflet.js&quot;&gt;&lt;/script&gt;\n",
       "    &lt;script src=&quot;https://code.jquery.com/jquery-3.7.1.min.js&quot;&gt;&lt;/script&gt;\n",
       "    &lt;script src=&quot;https://cdn.jsdelivr.net/npm/bootstrap@5.2.2/dist/js/bootstrap.bundle.min.js&quot;&gt;&lt;/script&gt;\n",
       "    &lt;script src=&quot;https://cdnjs.cloudflare.com/ajax/libs/Leaflet.awesome-markers/2.0.2/leaflet.awesome-markers.js&quot;&gt;&lt;/script&gt;\n",
       "    &lt;link rel=&quot;stylesheet&quot; href=&quot;https://cdn.jsdelivr.net/npm/leaflet@1.9.3/dist/leaflet.css&quot;/&gt;\n",
       "    &lt;link rel=&quot;stylesheet&quot; href=&quot;https://cdn.jsdelivr.net/npm/bootstrap@5.2.2/dist/css/bootstrap.min.css&quot;/&gt;\n",
       "    &lt;link rel=&quot;stylesheet&quot; href=&quot;https://netdna.bootstrapcdn.com/bootstrap/3.0.0/css/bootstrap.min.css&quot;/&gt;\n",
       "    &lt;link rel=&quot;stylesheet&quot; href=&quot;https://cdn.jsdelivr.net/npm/@fortawesome/fontawesome-free@6.2.0/css/all.min.css&quot;/&gt;\n",
       "    &lt;link rel=&quot;stylesheet&quot; href=&quot;https://cdnjs.cloudflare.com/ajax/libs/Leaflet.awesome-markers/2.0.2/leaflet.awesome-markers.css&quot;/&gt;\n",
       "    &lt;link rel=&quot;stylesheet&quot; href=&quot;https://cdn.jsdelivr.net/gh/python-visualization/folium/folium/templates/leaflet.awesome.rotate.min.css&quot;/&gt;\n",
       "    \n",
       "            &lt;meta name=&quot;viewport&quot; content=&quot;width=device-width,\n",
       "                initial-scale=1.0, maximum-scale=1.0, user-scalable=no&quot; /&gt;\n",
       "            &lt;style&gt;\n",
       "                #map_788eaf6c80fd7aedcf4f14ef3957b7c9 {\n",
       "                    position: relative;\n",
       "                    width: 100.0%;\n",
       "                    height: 100.0%;\n",
       "                    left: 0.0%;\n",
       "                    top: 0.0%;\n",
       "                }\n",
       "                .leaflet-container { font-size: 1rem; }\n",
       "            &lt;/style&gt;\n",
       "        \n",
       "&lt;/head&gt;\n",
       "&lt;body&gt;\n",
       "    \n",
       "    \n",
       "            &lt;div class=&quot;folium-map&quot; id=&quot;map_788eaf6c80fd7aedcf4f14ef3957b7c9&quot; &gt;&lt;/div&gt;\n",
       "        \n",
       "&lt;/body&gt;\n",
       "&lt;script&gt;\n",
       "    \n",
       "    \n",
       "            var map_788eaf6c80fd7aedcf4f14ef3957b7c9 = L.map(\n",
       "                &quot;map_788eaf6c80fd7aedcf4f14ef3957b7c9&quot;,\n",
       "                {\n",
       "                    center: [37.0, -97.5],\n",
       "                    crs: L.CRS.EPSG3857,\n",
       "                    zoom: 4,\n",
       "                    zoomControl: true,\n",
       "                    preferCanvas: false,\n",
       "                }\n",
       "            );\n",
       "\n",
       "            \n",
       "\n",
       "        \n",
       "    \n",
       "            var tile_layer_ea9e0a77d9e4ac46f24fd1a0d38d3ddb = L.tileLayer(\n",
       "                &quot;https://tile.openstreetmap.org/{z}/{x}/{y}.png&quot;,\n",
       "                {&quot;attribution&quot;: &quot;\\u0026copy; \\u003ca href=\\&quot;https://www.openstreetmap.org/copyright\\&quot;\\u003eOpenStreetMap\\u003c/a\\u003e contributors&quot;, &quot;detectRetina&quot;: false, &quot;maxNativeZoom&quot;: 19, &quot;maxZoom&quot;: 19, &quot;minZoom&quot;: 0, &quot;noWrap&quot;: false, &quot;opacity&quot;: 1, &quot;subdomains&quot;: &quot;abc&quot;, &quot;tms&quot;: false}\n",
       "            );\n",
       "        \n",
       "    \n",
       "            tile_layer_ea9e0a77d9e4ac46f24fd1a0d38d3ddb.addTo(map_788eaf6c80fd7aedcf4f14ef3957b7c9);\n",
       "        \n",
       "    \n",
       "            var marker_907af4348981caf0bd5f0f432fba0cf0 = L.marker(\n",
       "                [45.0, -90.0],\n",
       "                {}\n",
       "            ).addTo(map_788eaf6c80fd7aedcf4f14ef3957b7c9);\n",
       "        \n",
       "    \n",
       "            var icon_74a3906db3fe31dd25a4b6db79a03514 = L.AwesomeMarkers.icon(\n",
       "                {&quot;extraClasses&quot;: &quot;fa-rotate-0&quot;, &quot;icon&quot;: &quot;10&quot;, &quot;iconColor&quot;: &quot;white&quot;, &quot;markerColor&quot;: &quot;blue&quot;, &quot;prefix&quot;: &quot;fa&quot;}\n",
       "            );\n",
       "            marker_907af4348981caf0bd5f0f432fba0cf0.setIcon(icon_74a3906db3fe31dd25a4b6db79a03514);\n",
       "        \n",
       "&lt;/script&gt;\n",
       "&lt;/html&gt;\" style=\"position:absolute;width:100%;height:100%;left:0;top:0;border:none !important;\" allowfullscreen webkitallowfullscreen mozallowfullscreen></iframe></div></div>"
      ],
      "text/plain": [
       "<folium.folium.Map at 0xffff5c3e2dd0>"
      ]
     },
     "execution_count": 7,
     "metadata": {},
     "output_type": "execute_result"
    }
   ],
   "source": [
    "m = folium.Map(location=[37, -97.5], zoom_start=4, tiles=\"OpenStreetMap\")\n",
    "\n",
    "folium.Marker(\n",
    "    location=[45,-90], \n",
    "    icon=folium.Icon(color='blue', icon=\"10\", prefix=\"fa\")\n",
    ").add_to(m)\n",
    "\n",
    "m"
   ]
  },
  {
   "cell_type": "markdown",
   "id": "efe91e35-6970-4ee1-bc0e-b50d509c8f88",
   "metadata": {
    "editable": true,
    "slideshow": {
     "slide_type": ""
    },
    "tags": []
   },
   "source": [
    "#### Adding Numbers - Part 2\n",
    "BeautifyIcon \\\n",
    "[User Guide: BeautifyIcon](https://python-visualization.github.io/folium/latest/user_guide/plugins/beautify_icon.html) \\\n",
    "[API Reference: BeautifyIcon](https://python-visualization.github.io/folium/latest/reference.html#folium.plugins.BeautifyIcon) \\\n",
    "[BeautifyMarker Github](https://github.com/masajid390/BeautifyMarker)\n",
    "\n",
    "**Function**: folium.plugins.BeautifyIcon\n",
    "\n",
    "**Parameters we use**: \\\n",
    "**icon**: The Font-Awesome icon name to use to render the marker \\\n",
    "**icon_shape**: The icon shape as per the BeautifyMarker repo; marker, circle-dot, rectangle, rectangle-dot, doughnut \\\n",
    "**border_color**: Border color of the icon in hexadecimal format; default: #000000 (black) \\\n",
    "**background_color**: Background color of the icon in hexadecimal format; default: #FFFFFF (white) \\\n",
    "**text_color**: Text color of text in the icon in hexacecimal format; default: #000000 (black) \\\n",
    "**number**: Number to display instead of an icon \\\n",
    "\n",
    "**Notes**:\n",
    "* We bother to import folium.plugins this way because 'import folium' does not seem to include the plugins module. \\\n",
    "[StackOverflow dicussion](https://stackoverflow.com/questions/48085110/no-module-named-folium-plugins-python-3-6)\n",
    "* icon and number parameters are mutually exclusive\n"
   ]
  },
  {
   "cell_type": "code",
   "execution_count": 8,
   "id": "25dce201-577e-44c9-bf51-ad54df87a283",
   "metadata": {
    "collapsed": true,
    "editable": true,
    "jupyter": {
     "outputs_hidden": true
    },
    "slideshow": {
     "slide_type": ""
    },
    "tags": []
   },
   "outputs": [
    {
     "data": {
      "text/html": [
       "<div style=\"width:100%;\"><div style=\"position:relative;width:100%;height:0;padding-bottom:60%;\"><span style=\"color:#565656\">Make this Notebook Trusted to load map: File -> Trust Notebook</span><iframe srcdoc=\"&lt;!DOCTYPE html&gt;\n",
       "&lt;html&gt;\n",
       "&lt;head&gt;\n",
       "    \n",
       "    &lt;meta http-equiv=&quot;content-type&quot; content=&quot;text/html; charset=UTF-8&quot; /&gt;\n",
       "    \n",
       "        &lt;script&gt;\n",
       "            L_NO_TOUCH = false;\n",
       "            L_DISABLE_3D = false;\n",
       "        &lt;/script&gt;\n",
       "    \n",
       "    &lt;style&gt;html, body {width: 100%;height: 100%;margin: 0;padding: 0;}&lt;/style&gt;\n",
       "    &lt;style&gt;#map {position:absolute;top:0;bottom:0;right:0;left:0;}&lt;/style&gt;\n",
       "    &lt;script src=&quot;https://cdn.jsdelivr.net/npm/leaflet@1.9.3/dist/leaflet.js&quot;&gt;&lt;/script&gt;\n",
       "    &lt;script src=&quot;https://code.jquery.com/jquery-3.7.1.min.js&quot;&gt;&lt;/script&gt;\n",
       "    &lt;script src=&quot;https://cdn.jsdelivr.net/npm/bootstrap@5.2.2/dist/js/bootstrap.bundle.min.js&quot;&gt;&lt;/script&gt;\n",
       "    &lt;script src=&quot;https://cdnjs.cloudflare.com/ajax/libs/Leaflet.awesome-markers/2.0.2/leaflet.awesome-markers.js&quot;&gt;&lt;/script&gt;\n",
       "    &lt;link rel=&quot;stylesheet&quot; href=&quot;https://cdn.jsdelivr.net/npm/leaflet@1.9.3/dist/leaflet.css&quot;/&gt;\n",
       "    &lt;link rel=&quot;stylesheet&quot; href=&quot;https://cdn.jsdelivr.net/npm/bootstrap@5.2.2/dist/css/bootstrap.min.css&quot;/&gt;\n",
       "    &lt;link rel=&quot;stylesheet&quot; href=&quot;https://netdna.bootstrapcdn.com/bootstrap/3.0.0/css/bootstrap.min.css&quot;/&gt;\n",
       "    &lt;link rel=&quot;stylesheet&quot; href=&quot;https://cdn.jsdelivr.net/npm/@fortawesome/fontawesome-free@6.2.0/css/all.min.css&quot;/&gt;\n",
       "    &lt;link rel=&quot;stylesheet&quot; href=&quot;https://cdnjs.cloudflare.com/ajax/libs/Leaflet.awesome-markers/2.0.2/leaflet.awesome-markers.css&quot;/&gt;\n",
       "    &lt;link rel=&quot;stylesheet&quot; href=&quot;https://cdn.jsdelivr.net/gh/python-visualization/folium/folium/templates/leaflet.awesome.rotate.min.css&quot;/&gt;\n",
       "    \n",
       "            &lt;meta name=&quot;viewport&quot; content=&quot;width=device-width,\n",
       "                initial-scale=1.0, maximum-scale=1.0, user-scalable=no&quot; /&gt;\n",
       "            &lt;style&gt;\n",
       "                #map_e84ed3c8037b3dfa6029b4ff86807c16 {\n",
       "                    position: relative;\n",
       "                    width: 100.0%;\n",
       "                    height: 100.0%;\n",
       "                    left: 0.0%;\n",
       "                    top: 0.0%;\n",
       "                }\n",
       "                .leaflet-container { font-size: 1rem; }\n",
       "            &lt;/style&gt;\n",
       "        \n",
       "    &lt;script src=&quot;https://cdn.jsdelivr.net/gh/marslan390/BeautifyMarker/leaflet-beautify-marker-icon.min.js&quot;&gt;&lt;/script&gt;\n",
       "    &lt;link rel=&quot;stylesheet&quot; href=&quot;https://cdn.jsdelivr.net/gh/marslan390/BeautifyMarker/leaflet-beautify-marker-icon.min.css&quot;/&gt;\n",
       "&lt;/head&gt;\n",
       "&lt;body&gt;\n",
       "    \n",
       "    \n",
       "            &lt;div class=&quot;folium-map&quot; id=&quot;map_e84ed3c8037b3dfa6029b4ff86807c16&quot; &gt;&lt;/div&gt;\n",
       "        \n",
       "&lt;/body&gt;\n",
       "&lt;script&gt;\n",
       "    \n",
       "    \n",
       "            var map_e84ed3c8037b3dfa6029b4ff86807c16 = L.map(\n",
       "                &quot;map_e84ed3c8037b3dfa6029b4ff86807c16&quot;,\n",
       "                {\n",
       "                    center: [26.0, -82.0],\n",
       "                    crs: L.CRS.EPSG3857,\n",
       "                    zoom: 6,\n",
       "                    zoomControl: true,\n",
       "                    preferCanvas: false,\n",
       "                }\n",
       "            );\n",
       "\n",
       "            \n",
       "\n",
       "        \n",
       "    \n",
       "            var tile_layer_e2555e934006dbf93537e5f2d75a43d9 = L.tileLayer(\n",
       "                &quot;https://tile.openstreetmap.org/{z}/{x}/{y}.png&quot;,\n",
       "                {&quot;attribution&quot;: &quot;\\u0026copy; \\u003ca href=\\&quot;https://www.openstreetmap.org/copyright\\&quot;\\u003eOpenStreetMap\\u003c/a\\u003e contributors&quot;, &quot;detectRetina&quot;: false, &quot;maxNativeZoom&quot;: 19, &quot;maxZoom&quot;: 19, &quot;minZoom&quot;: 0, &quot;noWrap&quot;: false, &quot;opacity&quot;: 1, &quot;subdomains&quot;: &quot;abc&quot;, &quot;tms&quot;: false}\n",
       "            );\n",
       "        \n",
       "    \n",
       "            tile_layer_e2555e934006dbf93537e5f2d75a43d9.addTo(map_e84ed3c8037b3dfa6029b4ff86807c16);\n",
       "        \n",
       "    \n",
       "            var marker_4fe390ce05e820d1979bfc7025002cf1 = L.marker(\n",
       "                [27.0, -82.0],\n",
       "                {}\n",
       "            ).addTo(map_e84ed3c8037b3dfa6029b4ff86807c16);\n",
       "        \n",
       "    \n",
       "            var beautify_icon_f58bd4cf801fdb9fde8fc5b5022d70c3 = new L.BeautifyIcon.icon(\n",
       "                {&quot;backgroundColor&quot;: &quot;#FFFFFF&quot;, &quot;borderColor&quot;: &quot;#FF0000&quot;, &quot;borderWidth&quot;: 3, &quot;icon&quot;: &quot;plane&quot;, &quot;innerIconStyle&quot;: &quot;&quot;, &quot;isAlphaNumericIcon&quot;: false, &quot;spin&quot;: false, &quot;textColor&quot;: &quot;#FF0000&quot;}\n",
       "            )\n",
       "            marker_4fe390ce05e820d1979bfc7025002cf1.setIcon(beautify_icon_f58bd4cf801fdb9fde8fc5b5022d70c3);\n",
       "        \n",
       "    \n",
       "            var marker_a1b7532d76c4921be7fb1a4c79614daf = L.marker(\n",
       "                [26.0, -82.0],\n",
       "                {}\n",
       "            ).addTo(map_e84ed3c8037b3dfa6029b4ff86807c16);\n",
       "        \n",
       "    \n",
       "            var beautify_icon_f950199fcc0ff351a2d2243734258e50 = new L.BeautifyIcon.icon(\n",
       "                {&quot;backgroundColor&quot;: &quot;#FFFFFF&quot;, &quot;borderColor&quot;: &quot;#FF0000&quot;, &quot;borderWidth&quot;: 3, &quot;innerIconStyle&quot;: &quot;&quot;, &quot;isAlphaNumericIcon&quot;: true, &quot;spin&quot;: false, &quot;text&quot;: 10, &quot;textColor&quot;: &quot;#FF0000&quot;}\n",
       "            )\n",
       "            marker_a1b7532d76c4921be7fb1a4c79614daf.setIcon(beautify_icon_f950199fcc0ff351a2d2243734258e50);\n",
       "        \n",
       "    \n",
       "            var marker_fae7d3f84625a52d5de4179a8afabcbf = L.marker(\n",
       "                [24.0, -82.0],\n",
       "                {}\n",
       "            ).addTo(map_e84ed3c8037b3dfa6029b4ff86807c16);\n",
       "        \n",
       "    \n",
       "            var beautify_icon_6da6e99e7d86d6a11a5c14946c0e5489 = new L.BeautifyIcon.icon(\n",
       "                {&quot;backgroundColor&quot;: &quot;#FFFFFF&quot;, &quot;borderColor&quot;: &quot;#FF0000&quot;, &quot;borderWidth&quot;: 3, &quot;iconShape&quot;: &quot;marker&quot;, &quot;innerIconStyle&quot;: &quot;&quot;, &quot;isAlphaNumericIcon&quot;: true, &quot;spin&quot;: false, &quot;text&quot;: 112, &quot;textColor&quot;: &quot;#000000&quot;}\n",
       "            )\n",
       "            marker_fae7d3f84625a52d5de4179a8afabcbf.setIcon(beautify_icon_6da6e99e7d86d6a11a5c14946c0e5489);\n",
       "        \n",
       "&lt;/script&gt;\n",
       "&lt;/html&gt;\" style=\"position:absolute;width:100%;height:100%;left:0;top:0;border:none !important;\" allowfullscreen webkitallowfullscreen mozallowfullscreen></iframe></div></div>"
      ],
      "text/plain": [
       "<folium.folium.Map at 0xffff5c1fdcd0>"
      ]
     },
     "execution_count": 8,
     "metadata": {},
     "output_type": "execute_result"
    }
   ],
   "source": [
    "import folium.plugins as plugins\n",
    "\n",
    "m = folium.Map(location=[26, -82], zoom_start=6, tiles=\"OpenStreetMap\")\n",
    "\n",
    "icon_details = plugins.BeautifyIcon(\n",
    "    icon=\"plane\",\n",
    "    border_color=\"#FF0000\",\n",
    "    background_color=\"#FFFFFF\",\n",
    "    text_color=\"#FF0000\"\n",
    ")\n",
    "\n",
    "folium.Marker(\n",
    "    location=[27,-82], \n",
    "    icon=icon_details\n",
    ").add_to(m)\n",
    "\n",
    "icon_details = plugins.BeautifyIcon(\n",
    "    border_color=\"#FF0000\",\n",
    "    background_color=\"#FFFFFF\",\n",
    "    text_color=\"#FF0000\",\n",
    "    number=10\n",
    ")\n",
    "\n",
    "folium.Marker(\n",
    "    location=[26,-82], \n",
    "    icon=icon_details\n",
    ").add_to(m)\n",
    "\n",
    "icon_details = plugins.BeautifyIcon(\n",
    "    icon_shape=\"marker\",\n",
    "    border_color=\"#FF0000\",\n",
    "    background_color=\"#FFFFFF\",\n",
    "    text_color=\"#000000\",\n",
    "    number=112\n",
    ")\n",
    "\n",
    "folium.Marker(\n",
    "    location=[24,-82], \n",
    "    icon=icon_details\n",
    ").add_to(m)\n",
    "\n",
    "\n",
    "m"
   ]
  },
  {
   "cell_type": "markdown",
   "id": "a0286b14-fd6b-4d46-ab64-92ecb832f721",
   "metadata": {
    "collapsed": true,
    "editable": true,
    "jupyter": {
     "outputs_hidden": true
    },
    "slideshow": {
     "slide_type": ""
    },
    "tags": []
   },
   "source": [
    "### CSV Data\n",
    "Our sample [data.csv](data.csv) contains sample data under the columns 'latitude' and 'longitude'.\n",
    "We need that data as well as how many times each set occurs\n",
    "\n",
    "[Pyhon Docs: CSV](https://docs.python.org/3/library/csv.html) \\\n",
    "[Python Docs: CSV - Dictionary Reader](https://docs.python.org/3/library/csv.html#csv.DictReader)"
   ]
  },
  {
   "cell_type": "code",
   "execution_count": 9,
   "id": "fa9d8dae-5f39-44e7-b58b-78603d9dea5a",
   "metadata": {
    "editable": true,
    "slideshow": {
     "slide_type": ""
    },
    "tags": []
   },
   "outputs": [
    {
     "name": "stdout",
     "output_type": "stream",
     "text": [
      "Location: ('30.455000', '-84.253334') Count: 2\n",
      "Location: ('38.63', '-90.20') Count: 1\n",
      "Location: ('42.331429', '-83.045753') Count: 3\n",
      "Location: ('33.7488', '-84.3877') Count: 1\n",
      "Location: ('32.715736', '-117.161087') Count: 9\n",
      "Location: ('41.8781', '-87.6298') Count: 12\n"
     ]
    }
   ],
   "source": [
    "import csv\n",
    "\n",
    "# Get CSV rows\n",
    "with open('data.csv', mode='r') as csv_file:\n",
    "    markers = {} # {(latitude,longitude): count}\n",
    "    csv_reader = csv.DictReader(csv_file)\n",
    "    for row in csv_reader:\n",
    "        lat_long = (row[\"latitude\"], row[\"longitude\"])\n",
    "        if (lat_long) in markers:\n",
    "            markers[lat_long] += 1\n",
    "        else:\n",
    "            markers[lat_long] = 1\n",
    "\n",
    "for lat_long,count in markers.items():\n",
    "    print(f\"Location: {lat_long} Count: {count}\")\n"
   ]
  },
  {
   "cell_type": "markdown",
   "id": "93cdbbcd-bf3e-4d53-b98a-5addb1179211",
   "metadata": {
    "editable": true,
    "slideshow": {
     "slide_type": ""
    },
    "tags": []
   },
   "source": [
    "### Output\n",
    "Save map to HTML \\\n",
    "[Folium - Creating a Map](https://python-visualization.github.io/folium/latest/getting_started.html#Creating-a-map)\n"
   ]
  },
  {
   "cell_type": "code",
   "execution_count": 11,
   "id": "d2577da7-69ec-494f-b09d-f5d3bbb3bd3f",
   "metadata": {},
   "outputs": [],
   "source": [
    "import os\n",
    "\n",
    "file_name=\"output/map.html\"\n",
    "os.makedirs(os.path.dirname(file_name), exist_ok=True)\n",
    "m.save(file_name)\n"
   ]
  },
  {
   "cell_type": "markdown",
   "id": "11e802f7-1592-47f0-adf9-4d91a9a7e521",
   "metadata": {},
   "source": [
    "### Putting the pieces together\n",
    "Combining our csv data with marker creation\n"
   ]
  },
  {
   "cell_type": "code",
   "execution_count": 12,
   "id": "c7eff5e8-fc5e-4690-a436-5d0c0c3f74fc",
   "metadata": {},
   "outputs": [],
   "source": [
    "m = folium.Map(location=[37, -97.5], zoom_start=5, tiles=\"OpenStreetMap\")\n",
    "\n",
    "# Get CSV rows\n",
    "with open('data.csv', mode='r') as csv_file:\n",
    "    markers = {} # {(latitude,longitude) count}\n",
    "    csv_reader = csv.DictReader(csv_file)\n",
    "    for row in csv_reader:\n",
    "        lat_long = (row[\"latitude\"], row[\"longitude\"])\n",
    "        if (lat_long) in markers:\n",
    "            markers[lat_long] += 1\n",
    "        else:\n",
    "            markers[lat_long] = 1\n",
    "\n",
    "for lat_long,count in markers.items():\n",
    "    icon_details = plugins.BeautifyIcon(\n",
    "        icon_shape=\"marker\",\n",
    "        border_color=\"#FF0000\",\n",
    "        background_color=\"#FFFFFF\",\n",
    "        text_color=\"#000000\",\n",
    "        number=count\n",
    "        )\n",
    "    \n",
    "    folium.Marker(\n",
    "        location=lat_long, \n",
    "        icon=icon_details\n",
    "    ).add_to(m)\n",
    "\n",
    "file_name=\"output/map.html\"\n",
    "os.makedirs(os.path.dirname(file_name), exist_ok=True)\n",
    "m.save(file_name)"
   ]
  },
  {
   "cell_type": "markdown",
   "id": "26911598-3ba1-4b6d-b654-65d6abd50466",
   "metadata": {},
   "source": [
    "### Refactor & Complete Code"
   ]
  },
  {
   "cell_type": "code",
   "execution_count": null,
   "id": "faa78770-352a-4b9f-a757-aa32004b5ae5",
   "metadata": {
    "editable": true,
    "slideshow": {
     "slide_type": ""
    },
    "tags": []
   },
   "outputs": [],
   "source": [
    "import os\n",
    "import csv\n",
    "import folium\n",
    "import folium.plugins as plugins\n",
    "\n",
    "def gather_location_data() -> dict:\n",
    "    # Get CSV rows\n",
    "    with open('data.csv', mode='r') as csv_file:\n",
    "        _locations = {} # {(lat,long) count}\n",
    "        csv_reader = csv.DictReader(csv_file)\n",
    "        for row in csv_reader:\n",
    "            lat_long = (row[\"latitude\"], row[\"longitude\"])\n",
    "            if lat_long in _locations:\n",
    "                _locations[lat_long] += 1\n",
    "            else:\n",
    "                _locations[lat_long] = 1\n",
    "    return _locations\n",
    "\n",
    "def numeric_marker(lat_long=tuple, number=int) -> folium.Marker:\n",
    "    icon_details = plugins.BeautifyIcon(\n",
    "        icon_shape=\"marker\",\n",
    "        border_color=\"#FF0000\",\n",
    "        background_color=\"#FFFFFF\",\n",
    "        text_color=\"#000000\",\n",
    "        number=number\n",
    "        )\n",
    "    marker = folium.Marker(\n",
    "        location=lat_long,\n",
    "        icon=icon_details\n",
    "    )\n",
    "    return marker\n",
    "\n",
    "def save_to_file(folium_map=folium.map, file_name=str):\n",
    "    os.makedirs(os.path.dirname(file_name), exist_ok=True)\n",
    "    folium_map.save(file_name)\n",
    "\n",
    "def add_location_markers(folium_map=folium.map, locations=dict):\n",
    "    for lat_long,count in locations.items():\n",
    "        numeric_marker(lat_long, count).add_to(folium_map)\n",
    "\n",
    "\n",
    "if __name__ == \"__main__\":\n",
    "    m = folium.Map(location=[37, -97.5], zoom_start=5, tiles=\"OpenStreetMap\")\n",
    "    locations = gather_location_data()\n",
    "    add_location_markers(folium_map=m, locations=locations)\n",
    "    save_to_file(m, \"output/map.html\")\n"
   ]
  }
 ],
 "metadata": {
  "kernelspec": {
   "display_name": "Python 3 (ipykernel)",
   "language": "python",
   "name": "python3"
  },
  "language_info": {
   "codemirror_mode": {
    "name": "ipython",
    "version": 3
   },
   "file_extension": ".py",
   "mimetype": "text/x-python",
   "name": "python",
   "nbconvert_exporter": "python",
   "pygments_lexer": "ipython3",
   "version": "3.11.9"
  }
 },
 "nbformat": 4,
 "nbformat_minor": 5
}
